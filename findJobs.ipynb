{
 "cells": [
  {
   "cell_type": "code",
   "execution_count": 18,
   "id": "4731dea7",
   "metadata": {},
   "outputs": [],
   "source": [
    "from selenium import webdriver\n",
    "from selenium.webdriver.common.by import By\n",
    "from selenium.webdriver.edge.service import Service\n",
    "from selenium.webdriver.support.ui import WebDriverWait\n",
    "from selenium.webdriver.support import expected_conditions as EC\n",
    "import pandas as pd\n",
    "import time"
   ]
  },
  {
   "cell_type": "code",
   "execution_count": 19,
   "id": "fd30f1c3",
   "metadata": {},
   "outputs": [],
   "source": [
    "def fetch_customer_df():\n",
    "    # 1) Set up headless Edge (uses edgedriver from your PATH)\n",
    "    options = webdriver.EdgeOptions()\n",
    "    options.use_chromium = True\n",
    "    # options.add_argument(\"--headless\")        # remove this line if you want to see the browser\n",
    "    driver = webdriver.Edge(options=options)\n",
    "\n",
    "    # 2) Navigate\n",
    "    driver.get(\"https://www.workday.com/en-ca/customer-list.html\")\n",
    "    wait = WebDriverWait(driver, 10)\n",
    "\n",
    "    # 3) wait for user to press enter key to continue\n",
    "    print(\"Press Enter to continue...\")\n",
    "    input()\n",
    "    \n",
    "\n",
    "    # 4) Scrape all <img class=\"wide-logo\" alt=\"…\">\n",
    "    imgs = driver.find_elements(By.CSS_SELECTOR, \"img.wide-logo\")\n",
    "    names = [img.get_attribute(\"alt\") for img in imgs if img.get_attribute(\"alt\")]\n",
    "\n",
    "    driver.quit()\n",
    "\n",
    "    # 5) Build DataFrame\n",
    "    df = pd.DataFrame(names, columns=[\"customer_name\"])\n",
    "    return df"
   ]
  },
  {
   "cell_type": "code",
   "execution_count": 20,
   "id": "a97c8098",
   "metadata": {},
   "outputs": [
    {
     "name": "stdout",
     "output_type": "stream",
     "text": [
      "Press Enter to continue...\n"
     ]
    }
   ],
   "source": [
    "df = fetch_customer_df()\n",
    "df.to_csv(\"workday_customers.csv\", index=False)"
   ]
  },
  {
   "cell_type": "code",
   "execution_count": null,
   "id": "87f50596",
   "metadata": {},
   "outputs": [
    {
     "data": {
      "text/html": [
       "<div>\n",
       "<style scoped>\n",
       "    .dataframe tbody tr th:only-of-type {\n",
       "        vertical-align: middle;\n",
       "    }\n",
       "\n",
       "    .dataframe tbody tr th {\n",
       "        vertical-align: top;\n",
       "    }\n",
       "\n",
       "    .dataframe thead th {\n",
       "        text-align: right;\n",
       "    }\n",
       "</style>\n",
       "<table border=\"1\" class=\"dataframe\">\n",
       "  <thead>\n",
       "    <tr style=\"text-align: right;\">\n",
       "      <th></th>\n",
       "      <th>customer_name</th>\n",
       "    </tr>\n",
       "  </thead>\n",
       "  <tbody>\n",
       "    <tr>\n",
       "      <th>0</th>\n",
       "      <td>8x8, Inc.</td>\n",
       "    </tr>\n",
       "    <tr>\n",
       "      <th>1</th>\n",
       "      <td>AT&amp;T, Services Inc.</td>\n",
       "    </tr>\n",
       "    <tr>\n",
       "      <th>2</th>\n",
       "      <td>Hong Kong Broadband Network</td>\n",
       "    </tr>\n",
       "    <tr>\n",
       "      <th>3</th>\n",
       "      <td>Orange Belgium SA.</td>\n",
       "    </tr>\n",
       "    <tr>\n",
       "      <th>4</th>\n",
       "      <td>TalkTalk</td>\n",
       "    </tr>\n",
       "    <tr>\n",
       "      <th>...</th>\n",
       "      <td>...</td>\n",
       "    </tr>\n",
       "    <tr>\n",
       "      <th>3495</th>\n",
       "      <td>YOUView</td>\n",
       "    </tr>\n",
       "    <tr>\n",
       "      <th>3496</th>\n",
       "      <td>ZAGG, Inc.</td>\n",
       "    </tr>\n",
       "    <tr>\n",
       "      <th>3497</th>\n",
       "      <td>Zoopla (ZPG Limited)</td>\n",
       "    </tr>\n",
       "    <tr>\n",
       "      <th>3498</th>\n",
       "      <td>Zuhlke Engineering AG</td>\n",
       "    </tr>\n",
       "    <tr>\n",
       "      <th>3499</th>\n",
       "      <td>DB Cargo logo</td>\n",
       "    </tr>\n",
       "  </tbody>\n",
       "</table>\n",
       "<p>3500 rows × 1 columns</p>\n",
       "</div>"
      ],
      "text/plain": [
       "                    customer_name\n",
       "0                       8x8, Inc.\n",
       "1             AT&T, Services Inc.\n",
       "2     Hong Kong Broadband Network\n",
       "3              Orange Belgium SA.\n",
       "4                        TalkTalk\n",
       "...                           ...\n",
       "3495                      YOUView\n",
       "3496                   ZAGG, Inc.\n",
       "3497         Zoopla (ZPG Limited)\n",
       "3498        Zuhlke Engineering AG\n",
       "3499                DB Cargo logo\n",
       "\n",
       "[3500 rows x 1 columns]"
      ]
     },
     "execution_count": 21,
     "metadata": {},
     "output_type": "execute_result"
    }
   ],
   "source": [
    "df"
   ]
  }
 ],
 "metadata": {
  "kernelspec": {
   "display_name": "Python 3",
   "language": "python",
   "name": "python3"
  },
  "language_info": {
   "codemirror_mode": {
    "name": "ipython",
    "version": 3
   },
   "file_extension": ".py",
   "mimetype": "text/x-python",
   "name": "python",
   "nbconvert_exporter": "python",
   "pygments_lexer": "ipython3",
   "version": "3.11.6"
  }
 },
 "nbformat": 4,
 "nbformat_minor": 5
}
